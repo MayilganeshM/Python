{
 "cells": [
  {
   "cell_type": "code",
   "execution_count": 3,
   "id": "cc8fe34c-f711-40fb-9ac5-dbfce9094d05",
   "metadata": {},
   "outputs": [
    {
     "name": "stdout",
     "output_type": "stream",
     "text": [
      "10\n",
      "10.0\n",
      "(10+0j)\n"
     ]
    }
   ],
   "source": [
    "m=10\n",
    "print(str(m))\n",
    "print(float(m))\n",
    "print(complex(m))"
   ]
  },
  {
   "cell_type": "code",
   "execution_count": 5,
   "id": "bdbf6844-d16c-4d3c-82af-9297f630be9d",
   "metadata": {},
   "outputs": [
    {
     "name": "stdout",
     "output_type": "stream",
     "text": [
      "10\n",
      "10.0\n",
      "(10+0j)\n"
     ]
    }
   ],
   "source": [
    "m=\"10\"\n",
    "print(int(m))\n",
    "print(float(m))\n",
    "print(complex(m))"
   ]
  },
  {
   "cell_type": "code",
   "execution_count": 6,
   "id": "ff383f98-f576-4b74-ad5d-79ef4c0810a0",
   "metadata": {},
   "outputs": [
    {
     "name": "stdout",
     "output_type": "stream",
     "text": [
      "10\n",
      "10.7\n",
      "(10.7+0j)\n"
     ]
    }
   ],
   "source": [
    "m=10.7\n",
    "print(int(m))\n",
    "print(str(m))\n",
    "print(complex(m))"
   ]
  },
  {
   "cell_type": "code",
   "execution_count": 12,
   "id": "82851e6f-e002-43a0-9fcc-de8435110dd3",
   "metadata": {},
   "outputs": [
    {
     "name": "stdout",
     "output_type": "stream",
     "text": [
      "1\n",
      "(1+2j)\n",
      "1.0\n"
     ]
    }
   ],
   "source": [
    "m=1 + 2j\n",
    "z=int(m.real)\n",
    "x=str(m)\n",
    "y=float(m.real)\n",
    "print(z)\n",
    "print(x)\n",
    "print(y)"
   ]
  },
  {
   "cell_type": "code",
   "execution_count": null,
   "id": "7aa1a9bf-c2bb-4c89-a51b-854cd090ad33",
   "metadata": {},
   "outputs": [],
   "source": []
  }
 ],
 "metadata": {
  "kernelspec": {
   "display_name": "Python 3 (ipykernel)",
   "language": "python",
   "name": "python3"
  },
  "language_info": {
   "codemirror_mode": {
    "name": "ipython",
    "version": 3
   },
   "file_extension": ".py",
   "mimetype": "text/x-python",
   "name": "python",
   "nbconvert_exporter": "python",
   "pygments_lexer": "ipython3",
   "version": "3.12.7"
  }
 },
 "nbformat": 4,
 "nbformat_minor": 5
}
