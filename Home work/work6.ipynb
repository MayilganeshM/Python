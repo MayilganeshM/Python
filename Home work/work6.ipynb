{
 "cells": [
  {
   "cell_type": "code",
   "execution_count": 3,
   "id": "fdd3b38b-6644-4456-98df-c94ff9141e61",
   "metadata": {},
   "outputs": [
    {
     "name": "stdin",
     "output_type": "stream",
     "text": [
      "Enter the number: 1\n"
     ]
    },
    {
     "name": "stdout",
     "output_type": "stream",
     "text": [
      "It is odd number\n"
     ]
    }
   ],
   "source": [
    "a=int(input(\"Enter the number:\"))\n",
    "if(a%2==0):\n",
    "    print(\"It is even number\")\n",
    "else:\n",
    "    print(\"It is odd number\")"
   ]
  },
  {
   "cell_type": "code",
   "execution_count": 4,
   "id": "4c821d75-0ea8-4541-bfda-75eb094b1462",
   "metadata": {},
   "outputs": [
    {
     "name": "stdin",
     "output_type": "stream",
     "text": [
      "Enter Your mark 67\n"
     ]
    },
    {
     "name": "stdout",
     "output_type": "stream",
     "text": [
      "Your grade is D\n"
     ]
    }
   ],
   "source": [
    "a=int(input(\"Enter Your mark\"))\n",
    "if(a>=90 and a<=100):\n",
    "    print(\"Your grade is A\")\n",
    "elif(a>=80 and a<=89):\n",
    "     print(\"Your grade is B\")\n",
    "elif(a>=70 and a<=79):\n",
    "     print(\"Your grade is C\")\n",
    "elif(a>=60 and a<=69):\n",
    "    print(\"Your grade is D\")\n",
    "else:\n",
    "    print(\"Fail\")"
   ]
  },
  {
   "cell_type": "code",
   "execution_count": 6,
   "id": "18f57c42-0686-4a1a-90d1-9a48a1b42481",
   "metadata": {},
   "outputs": [
    {
     "name": "stdin",
     "output_type": "stream",
     "text": [
      "Enter the number: -8\n"
     ]
    },
    {
     "name": "stdout",
     "output_type": "stream",
     "text": [
      "It is Negative number\n"
     ]
    }
   ],
   "source": [
    "a=int(input(\"Enter the number:\"))\n",
    "if(a>0):\n",
    "    print(\"It is positive Number\")\n",
    "else:\n",
    "    print(\"It is Negative number\")"
   ]
  },
  {
   "cell_type": "code",
   "execution_count": 4,
   "id": "443b9017-a8e7-4d59-958e-fe6ae8503595",
   "metadata": {},
   "outputs": [
    {
     "name": "stdin",
     "output_type": "stream",
     "text": [
      "Enter the Year 2024\n"
     ]
    },
    {
     "name": "stdout",
     "output_type": "stream",
     "text": [
      "It is leab year\n"
     ]
    }
   ],
   "source": [
    "a=int(input(\"Enter the Year\"))\n",
    "if(a%4==0 and a%100!=0) or (a%400==0):\n",
    "    print(\"It is leab year\")\n",
    "else:\n",
    "    print(\"It is not leab year\")"
   ]
  },
  {
   "cell_type": "code",
   "execution_count": 12,
   "id": "900ca473-59c9-4151-8d86-c11be524cfe2",
   "metadata": {},
   "outputs": [
    {
     "name": "stdin",
     "output_type": "stream",
     "text": [
      "Enter the number: 4\n",
      "Enter the number: 66\n",
      "Enter the number: 98\n"
     ]
    },
    {
     "name": "stdout",
     "output_type": "stream",
     "text": [
      "A is smallest number\n"
     ]
    }
   ],
   "source": [
    "a=int(input(\"Enter the number:\"))\n",
    "b=int(input(\"Enter the number:\"))\n",
    "c=int(input(\"Enter the number:\"))\n",
    "if (a<b and a<c):\n",
    "    print(\"A is smallest number\") \n",
    "elif(b<c and b<a):\n",
    "    print(\"B is smallest number\")\n",
    "else:\n",
    "    print(\"C is smallest number\"))"
   ]
  },
  {
   "cell_type": "code",
   "execution_count": 3,
   "id": "441324fb-0242-48b2-bb88-889aa15318f0",
   "metadata": {},
   "outputs": [
    {
     "name": "stdin",
     "output_type": "stream",
     "text": [
      "Enter your password Mayil\n"
     ]
    },
    {
     "name": "stdout",
     "output_type": "stream",
     "text": [
      "Access denied\n"
     ]
    }
   ],
   "source": [
    "a=input(\"Enter your password\")\n",
    "if len(a)<8 and a in '[a-z & A-Z]':\n",
    "    print(\"Access granted\")\n",
    "else:\n",
    "    print(\"Access denied\")"
   ]
  },
  {
   "cell_type": "code",
   "execution_count": 21,
   "id": "3a6f1531-f290-4229-8b65-333ba23347e5",
   "metadata": {},
   "outputs": [
    {
     "name": "stdin",
     "output_type": "stream",
     "text": [
      "Enter your age: 8\n"
     ]
    },
    {
     "name": "stdout",
     "output_type": "stream",
     "text": [
      "Not Allow for Vote\n"
     ]
    }
   ],
   "source": [
    "a=int(input(\"Enter your age:\"))\n",
    "if a>=18:\n",
    "    print(\"Allow for Vote\")\n",
    "else:\n",
    "    print(\"Not Allow for Vote\")"
   ]
  },
  {
   "cell_type": "code",
   "execution_count": 23,
   "id": "47ef124c-63b3-41f3-8da9-c89fa5be69be",
   "metadata": {},
   "outputs": [
    {
     "name": "stdin",
     "output_type": "stream",
     "text": [
      "Enter the character d\n"
     ]
    },
    {
     "name": "stdout",
     "output_type": "stream",
     "text": [
      "It is not vowel\n"
     ]
    }
   ],
   "source": [
    "a=input(\"Enter the character\")\n",
    "if a in 'aeiou':\n",
    "    print(\"It is vowel\")\n",
    "else:\n",
    "    print(\"It is not vowel\")"
   ]
  },
  {
   "cell_type": "code",
   "execution_count": 26,
   "id": "6898bb6b-41cc-44c8-84dc-dd98f764ccc7",
   "metadata": {},
   "outputs": [
    {
     "name": "stdin",
     "output_type": "stream",
     "text": [
      "Enter the day monday\n"
     ]
    },
    {
     "name": "stdout",
     "output_type": "stream",
     "text": [
      "It is weekday\n"
     ]
    }
   ],
   "source": [
    "a=input(\"Enter the day\")\n",
    "if a in 'Saturday' or a in 'sunday':\n",
    "    print(\"It is Weekend\")\n",
    "else:\n",
    "    print(\"It is weekday\")"
   ]
  },
  {
   "cell_type": "code",
   "execution_count": null,
   "id": "4a6559bd-8632-4902-81b7-f184cb55bb95",
   "metadata": {},
   "outputs": [],
   "source": []
  }
 ],
 "metadata": {
  "kernelspec": {
   "display_name": "Python 3 (ipykernel)",
   "language": "python",
   "name": "python3"
  },
  "language_info": {
   "codemirror_mode": {
    "name": "ipython",
    "version": 3
   },
   "file_extension": ".py",
   "mimetype": "text/x-python",
   "name": "python",
   "nbconvert_exporter": "python",
   "pygments_lexer": "ipython3",
   "version": "3.12.7"
  }
 },
 "nbformat": 4,
 "nbformat_minor": 5
}
