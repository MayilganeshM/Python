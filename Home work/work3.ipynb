{
 "cells": [
  {
   "cell_type": "code",
   "execution_count": 1,
   "id": "a4ceb913-bb24-4891-aa93-57612517b655",
   "metadata": {},
   "outputs": [
    {
     "name": "stdout",
     "output_type": "stream",
     "text": [
      "Hi Raja\n"
     ]
    }
   ],
   "source": [
    "#Replace()\n",
    "#The replace() method allows you to replace specific words or substrings within a string.\n",
    "k=\"Hi Mayilganesh\"\n",
    "print(k.replace(\"Mayilganesh\",\"Raja\"))"
   ]
  },
  {
   "cell_type": "code",
   "execution_count": 2,
   "id": "0e4a4c89-8aaa-4df6-9077-7be8bd5eeea2",
   "metadata": {},
   "outputs": [
    {
     "name": "stdout",
     "output_type": "stream",
     "text": [
      "HOW ARE YOU\n",
      "how are you\n",
      "How are you\n"
     ]
    }
   ],
   "source": [
    "#Upper(),Lower(),Capitalize\n",
    "k=\"how are you\"\n",
    "print(k.upper())\n",
    "k1=\"HOW ARE YOU\"\n",
    "print(k.lower())\n",
    "k2=\"how are you\"\n",
    "print(k2.capitalize())"
   ]
  },
  {
   "cell_type": "code",
   "execution_count": 3,
   "id": "258c99cc-a074-40cf-b196-e158d799a3a0",
   "metadata": {},
   "outputs": [
    {
     "name": "stdout",
     "output_type": "stream",
     "text": [
      "Mayil, Ganesh\n"
     ]
    }
   ],
   "source": [
    "#strip()\n",
    "#The strip() method removes any whitespace from the beginning or the end:\n",
    "k=\" Mayil, Ganesh \"\n",
    "print(k.strip())"
   ]
  },
  {
   "cell_type": "code",
   "execution_count": 2,
   "id": "69bd9c72-dfc9-40d5-878f-18da958c9adb",
   "metadata": {},
   "outputs": [
    {
     "name": "stdout",
     "output_type": "stream",
     "text": [
      "hello, and welcome\n"
     ]
    }
   ],
   "source": [
    "#\tConverts string into lower case\n",
    "k = \"Hello, And Welcome\"\n",
    "print(k.casefold())"
   ]
  },
  {
   "cell_type": "code",
   "execution_count": 5,
   "id": "a1f9f71f-941b-4963-ba3f-0e67ffbcd4b7",
   "metadata": {},
   "outputs": [
    {
     "name": "stdout",
     "output_type": "stream",
     "text": [
      "0\n"
     ]
    }
   ],
   "source": [
    "#\tReturns the number of times a specified value occurs in a string\n",
    "k = \"Hello, And Welcome\"\n",
    "print(k.count(\"Welome\"))"
   ]
  },
  {
   "cell_type": "code",
   "execution_count": 1,
   "id": "fb12dccf-a9d4-4c64-9bc9-da2771fc2457",
   "metadata": {},
   "outputs": [
    {
     "name": "stdout",
     "output_type": "stream",
     "text": [
      "b'Hello And Welcome'\n"
     ]
    }
   ],
   "source": [
    "#encode()\n",
    "#Returns an encoded version of the string\n",
    "k=\"Hello And Welcome\"\n",
    "print(k.encode())"
   ]
  },
  {
   "cell_type": "code",
   "execution_count": 2,
   "id": "6d6a5688-2cca-42ca-a197-ac2a4140a06a",
   "metadata": {},
   "outputs": [
    {
     "name": "stdout",
     "output_type": "stream",
     "text": [
      "True\n"
     ]
    }
   ],
   "source": [
    "#endswith()\n",
    "#Returns true if the string ends with the specified value\n",
    "k=\"Hello And Welcome\"\n",
    "print(k.endswith(\"Welcome\"))"
   ]
  },
  {
   "cell_type": "code",
   "execution_count": 39,
   "id": "9aec09d1-3bd7-4008-8264-e740e6e129f6",
   "metadata": {},
   "outputs": [
    {
     "name": "stdout",
     "output_type": "stream",
     "text": [
      "True\n"
     ]
    }
   ],
   "source": [
    "#startswith()\n",
    "#Returns true if the string starts with the specified value\n",
    "k=\"Hello Welcome\"\n",
    "print(k.startswith(\"Hello\"))"
   ]
  },
  {
   "cell_type": "code",
   "execution_count": 4,
   "id": "3a28a3e4-c8fb-4af1-9682-3da51afb6a97",
   "metadata": {},
   "outputs": [
    {
     "name": "stdout",
     "output_type": "stream",
     "text": [
      "Hello And Welcome\n"
     ]
    }
   ],
   "source": [
    "#expandtabs()\n",
    "#Sets the tab size of the string\n",
    "k=\"Hello And Welcome\"\n",
    "print(k.expandtabs(2))"
   ]
  },
  {
   "cell_type": "code",
   "execution_count": 6,
   "id": "d18fff34-c48f-4880-b425-b11a9e914b49",
   "metadata": {},
   "outputs": [
    {
     "name": "stdout",
     "output_type": "stream",
     "text": [
      "6\n"
     ]
    }
   ],
   "source": [
    "#find()\n",
    "#Searches the string for a specified value and returns the position of where it was found\n",
    "k=\"Hello And Welcome\"\n",
    "print(k.find(\"And\"))"
   ]
  },
  {
   "cell_type": "code",
   "execution_count": 7,
   "id": "8c057720-3d8e-45c7-a3d1-cf6f7b0dbd97",
   "metadata": {},
   "outputs": [
    {
     "name": "stdout",
     "output_type": "stream",
     "text": [
      "6\n"
     ]
    }
   ],
   "source": [
    "#index()\n",
    "#Searches the string for a specified value and returns the position of where it was found\n",
    "k=\"Hello And Welcome\"\n",
    "print(k.index(\"And\"))"
   ]
  },
  {
   "cell_type": "code",
   "execution_count": 15,
   "id": "965fc2fd-9e8e-49f4-8506-25fe997783cd",
   "metadata": {},
   "outputs": [
    {
     "name": "stdout",
     "output_type": "stream",
     "text": [
      "False\n",
      "True\n"
     ]
    }
   ],
   "source": [
    "#isalnum()\n",
    "#Returns True if all characters in the string are alphanumeric.not use space\n",
    "k=\"Hello And welcome\"\n",
    "k1=\"HelloAndWelcome12\"\n",
    "print(k.isalnum())\n",
    "print(k1.isalnum())"
   ]
  },
  {
   "cell_type": "code",
   "execution_count": 14,
   "id": "ea4af4ae-ef26-49ad-bfd2-0554746b4f99",
   "metadata": {},
   "outputs": [
    {
     "name": "stdout",
     "output_type": "stream",
     "text": [
      "True\n"
     ]
    }
   ],
   "source": [
    "#isalpha()\n",
    "#Returns True if all characters in the string are in the alphabet.not use space.\n",
    "k=\"Hello Welcome\"\n",
    "print(k.isalpha())"
   ]
  },
  {
   "cell_type": "code",
   "execution_count": 16,
   "id": "c17cc68c-de19-4217-a308-bf9051e2bfd2",
   "metadata": {},
   "outputs": [
    {
     "name": "stdout",
     "output_type": "stream",
     "text": [
      "True\n"
     ]
    }
   ],
   "source": [
    "#isascii()\n",
    "#Returns True if all characters in the string are ascii characters.it is also used to space and spical character.\n",
    "k=\"Hello Welcome\"\n",
    "print(k.isascii())"
   ]
  },
  {
   "cell_type": "code",
   "execution_count": 17,
   "id": "592ec59e-c726-46fb-bd20-24dcfdd3d0e5",
   "metadata": {},
   "outputs": [
    {
     "name": "stdout",
     "output_type": "stream",
     "text": [
      "False\n",
      "True\n"
     ]
    }
   ],
   "source": [
    "#isdecimal()\n",
    "#Returns True if all characters in the string are decimals\n",
    "k=\"Hello\"\n",
    "k1=\"1234\"\n",
    "print(k.isdecimal())\n",
    "print(k1.isdecimal())"
   ]
  },
  {
   "cell_type": "code",
   "execution_count": 18,
   "id": "0a5e89a7-56cd-4b60-8e87-d851944ecef6",
   "metadata": {},
   "outputs": [
    {
     "name": "stdout",
     "output_type": "stream",
     "text": [
      "True\n"
     ]
    }
   ],
   "source": [
    "#isdigit()\n",
    "#Returns True if all characters in the string are digits.it is also decimal but it is allow to superscript and subscript\n",
    "k=\"1234\"\n",
    "print(k.isdigit())"
   ]
  },
  {
   "cell_type": "code",
   "execution_count": 21,
   "id": "75cd4437-ac06-46dc-9992-35ee90b230e8",
   "metadata": {},
   "outputs": [
    {
     "name": "stdout",
     "output_type": "stream",
     "text": [
      "True\n"
     ]
    }
   ],
   "source": [
    "#isidentifier()\n",
    "#Returns True if the string is an identifier\n",
    "k=\"Hello_welcome\"\n",
    "print(k.isidentifier())"
   ]
  },
  {
   "cell_type": "code",
   "execution_count": 23,
   "id": "25cad158-32be-4349-9d41-9ade107c182d",
   "metadata": {},
   "outputs": [
    {
     "name": "stdout",
     "output_type": "stream",
     "text": [
      "True\n",
      "False\n"
     ]
    }
   ],
   "source": [
    "#islower()\n",
    "#Returns True if all characters in the string are lower case\n",
    "k=\"hello\"\n",
    "k1=\"HELLO\"\n",
    "print(k.islower())\n",
    "print(k1.islower())"
   ]
  },
  {
   "cell_type": "code",
   "execution_count": 24,
   "id": "9737ba1d-afc4-410c-ae1f-7468945ba47d",
   "metadata": {},
   "outputs": [
    {
     "name": "stdout",
     "output_type": "stream",
     "text": [
      "True\n"
     ]
    }
   ],
   "source": [
    "#isnumeric()\n",
    "#Returns True if all characters in the string are numeric\n",
    "k=\"1234433\"\n",
    "print(k.isnumeric())"
   ]
  },
  {
   "cell_type": "code",
   "execution_count": 28,
   "id": "5ccfe34d-b676-4dbd-9fab-22913f3f825d",
   "metadata": {},
   "outputs": [
    {
     "name": "stdout",
     "output_type": "stream",
     "text": [
      "True\n",
      "True\n"
     ]
    }
   ],
   "source": [
    "#isprintable()\n",
    "#Returns True if all characters in the string are printable\n",
    "k=\"hello\"\n",
    "print(k.isprintable())"
   ]
  },
  {
   "cell_type": "code",
   "execution_count": 32,
   "id": "67a76b30-8489-4632-8c08-a20084d16d79",
   "metadata": {},
   "outputs": [
    {
     "name": "stdout",
     "output_type": "stream",
     "text": [
      "False\n",
      "True\n"
     ]
    }
   ],
   "source": [
    "#isspace()\n",
    "#Returns True if all characters in the string are whitespaces\n",
    "k=\" Hello \"\n",
    "k1=\"    \"\n",
    "print(k.isspace())\n",
    "print(k1.isspace())"
   ]
  },
  {
   "cell_type": "code",
   "execution_count": 33,
   "id": "0fb25ccb-f022-48f3-8010-a129d5efc811",
   "metadata": {},
   "outputs": [
    {
     "name": "stdout",
     "output_type": "stream",
     "text": [
      "True\n",
      "False\n"
     ]
    }
   ],
   "source": [
    "#isupper()\n",
    "#Returns True if all characters in the string are upper case\n",
    "k=\"HELLO\"\n",
    "k1=\"hello\"\n",
    "print(k.isupper())\n",
    "print(k1.isupper())"
   ]
  },
  {
   "cell_type": "code",
   "execution_count": 37,
   "id": "0a91fa31-8f3a-4bc8-b103-a62c819652a5",
   "metadata": {},
   "outputs": [
    {
     "name": "stdout",
     "output_type": "stream",
     "text": [
      "handeandlandlandoand andwandeandlandcandoandmande\n",
      "helloandwelcome\n"
     ]
    }
   ],
   "source": [
    "#join()\n",
    "#Joins the elements of an iterable to the end of the string\n",
    "k=\"hello welcome\"\n",
    "k1=(\"hello\",\"welcome\")\n",
    "print(\"and\".join(k))\n",
    "print(\"and\".join(k1))"
   ]
  },
  {
   "cell_type": "code",
   "execution_count": 42,
   "id": "bafd28f8-0fff-44fa-b8bc-e20585ccedfc",
   "metadata": {},
   "outputs": [
    {
     "name": "stdout",
     "output_type": "stream",
     "text": [
      "hELLO wELCOME\n"
     ]
    }
   ],
   "source": [
    "#swapcase()\n",
    "#Swaps cases, lower case becomes upper case and vice versa\n",
    "k=\"Hello Welcome\"\n",
    "print(k.swapcase())"
   ]
  },
  {
   "cell_type": "code",
   "execution_count": 43,
   "id": "38d80bd8-f519-4ec4-a4ee-0c1b4a4d9cda",
   "metadata": {},
   "outputs": [
    {
     "name": "stdout",
     "output_type": "stream",
     "text": [
      "True\n",
      "False\n"
     ]
    }
   ],
   "source": [
    "#istitle()\n",
    "#Returns True if the string follows the rules of a title\n",
    "k=\"Hello\"\n",
    "k1=\"HELLO\"\n",
    "print(k.istitle())\n",
    "print(k1.istitle())"
   ]
  },
  {
   "cell_type": "code",
   "execution_count": null,
   "id": "86d28591-90a7-41d4-bbbe-a68a0048a4bf",
   "metadata": {},
   "outputs": [],
   "source": [
    "a=input(\"Enter Your Name:\")\n",
    "b=input(\"Enter Your Place\")\n",
    "c=input(\"Enter Your Department:\")\n",
    "d=int(input(\"Enter Your Year pass out:\"))\n",
    "e=input(\"Enter Your colege Name\")\n",
    "k=f\"Hi Sir, I am {a},I From {b},I Completed {c},in {d},From {e}\"\n",
    "print(k)"
   ]
  },
  {
   "cell_type": "code",
   "execution_count": null,
   "id": "b4d73c7c-31d5-4c26-a32f-a58f0d2f6ec0",
   "metadata": {},
   "outputs": [],
   "source": []
  }
 ],
 "metadata": {
  "kernelspec": {
   "display_name": "Python 3 (ipykernel)",
   "language": "python",
   "name": "python3"
  },
  "language_info": {
   "codemirror_mode": {
    "name": "ipython",
    "version": 3
   },
   "file_extension": ".py",
   "mimetype": "text/x-python",
   "name": "python",
   "nbconvert_exporter": "python",
   "pygments_lexer": "ipython3",
   "version": "3.12.7"
  }
 },
 "nbformat": 4,
 "nbformat_minor": 5
}
