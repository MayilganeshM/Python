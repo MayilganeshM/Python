{
 "cells": [
  {
   "cell_type": "code",
   "execution_count": 2,
   "id": "697d29bd-00a7-453c-ad9c-c3372ba68a40",
   "metadata": {},
   "outputs": [
    {
     "name": "stdout",
     "output_type": "stream",
     "text": [
      "y\n",
      "Did\n"
     ]
    }
   ],
   "source": [
    "a=\"Did you know that\"\n",
    "print(a[4])\n",
    "print(a[0:3])"
   ]
  },
  {
   "cell_type": "code",
   "execution_count": 6,
   "id": "4d5ba1c0-137c-4f38-ae34-0611bd1afca3",
   "metadata": {},
   "outputs": [
    {
     "name": "stdout",
     "output_type": "stream",
     "text": [
      "h\n",
      " tha\n"
     ]
    }
   ],
   "source": [
    "a=\"Did you know that\"\n",
    "print(a[-3])\n",
    "print(a[-5:-1])"
   ]
  },
  {
   "cell_type": "code",
   "execution_count": 8,
   "id": "835e4789-a289-49fb-b11a-74cef412fdef",
   "metadata": {},
   "outputs": [
    {
     "name": "stdout",
     "output_type": "stream",
     "text": [
      "ou know that\n",
      "Did y\n"
     ]
    }
   ],
   "source": [
    "a=\"Did you know that\"\n",
    "print(a[5:])\n",
    "print(a[:5])"
   ]
  },
  {
   "cell_type": "code",
   "execution_count": 10,
   "id": "3b713894-787b-4450-bb36-9c29bba7fff6",
   "metadata": {},
   "outputs": [
    {
     "name": "stdout",
     "output_type": "stream",
     "text": [
      "that\n",
      "Did you know \n"
     ]
    }
   ],
   "source": [
    "a=\"Did you know that\"\n",
    "print(a[-4:])\n",
    "print(a[:-4])"
   ]
  },
  {
   "cell_type": "code",
   "execution_count": null,
   "id": "b7f6c7db-f475-4e3c-93e8-0ffee0c9fafb",
   "metadata": {},
   "outputs": [],
   "source": []
  }
 ],
 "metadata": {
  "kernelspec": {
   "display_name": "Python 3 (ipykernel)",
   "language": "python",
   "name": "python3"
  },
  "language_info": {
   "codemirror_mode": {
    "name": "ipython",
    "version": 3
   },
   "file_extension": ".py",
   "mimetype": "text/x-python",
   "name": "python",
   "nbconvert_exporter": "python",
   "pygments_lexer": "ipython3",
   "version": "3.12.7"
  }
 },
 "nbformat": 4,
 "nbformat_minor": 5
}
