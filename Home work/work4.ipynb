{
 "cells": [
  {
   "cell_type": "markdown",
   "id": "9dd5d5a9-301b-4bfc-b21e-926c8765455f",
   "metadata": {},
   "source": [
    "#Different between isnumeric and isdigit()\n",
    "The Two types also same,but numeric is allow to function(ex.1/3) value.isdigit is not allow the value."
   ]
  },
  {
   "cell_type": "code",
   "execution_count": 2,
   "id": "e3b38383-ecb7-4892-996c-1816f3479a60",
   "metadata": {},
   "outputs": [
    {
     "name": "stdin",
     "output_type": "stream",
     "text": [
      "Enter the numbber: 10\n",
      "Enter the number: 7\n"
     ]
    },
    {
     "name": "stdout",
     "output_type": "stream",
     "text": [
      "17\n"
     ]
    }
   ],
   "source": [
    "a=int(input(\"Enter the numbber:\"))\n",
    "b=int(input(\"Enter the number:\"))\n",
    "print(a+b)"
   ]
  },
  {
   "cell_type": "code",
   "execution_count": 3,
   "id": "abca51a8-6631-4b94-b733-2386ea50e796",
   "metadata": {},
   "outputs": [
    {
     "name": "stdin",
     "output_type": "stream",
     "text": [
      "Enter the numbber: 34\n",
      "Enter the number: 78\n"
     ]
    },
    {
     "name": "stdout",
     "output_type": "stream",
     "text": [
      "-44\n"
     ]
    }
   ],
   "source": [
    "a=int(input(\"Enter the numbber:\"))\n",
    "b=int(input(\"Enter the number:\"))\n",
    "print(a-b)"
   ]
  },
  {
   "cell_type": "code",
   "execution_count": 4,
   "id": "aa6175b6-f461-4c7e-9cdd-0f565dcebed9",
   "metadata": {},
   "outputs": [
    {
     "name": "stdin",
     "output_type": "stream",
     "text": [
      "Enter the numbber: 10\n",
      "Enter the number: 7\n"
     ]
    },
    {
     "name": "stdout",
     "output_type": "stream",
     "text": [
      "70\n"
     ]
    }
   ],
   "source": [
    "a=int(input(\"Enter the numbber:\"))\n",
    "b=int(input(\"Enter the number:\"))\n",
    "print(a*b)"
   ]
  },
  {
   "cell_type": "code",
   "execution_count": 5,
   "id": "ccb8c53f-826b-4915-9ac1-27924fdc274c",
   "metadata": {},
   "outputs": [
    {
     "name": "stdin",
     "output_type": "stream",
     "text": [
      "Enter the numbber: 35\n",
      "Enter the number: 7\n"
     ]
    },
    {
     "name": "stdout",
     "output_type": "stream",
     "text": [
      "5.0\n"
     ]
    }
   ],
   "source": [
    "a=int(input(\"Enter the numbber:\"))\n",
    "b=int(input(\"Enter the number:\"))\n",
    "print(a/b)"
   ]
  },
  {
   "cell_type": "code",
   "execution_count": 6,
   "id": "6cfc42dc-beff-450f-aadc-024cff9b878a",
   "metadata": {},
   "outputs": [
    {
     "name": "stdin",
     "output_type": "stream",
     "text": [
      "Enter the numbber: 34\n",
      "Enter the number: 6\n"
     ]
    },
    {
     "name": "stdout",
     "output_type": "stream",
     "text": [
      "5\n"
     ]
    }
   ],
   "source": [
    "a=int(input(\"Enter the numbber:\"))\n",
    "b=int(input(\"Enter the number:\"))\n",
    "print(a//b)"
   ]
  },
  {
   "cell_type": "code",
   "execution_count": 7,
   "id": "2a63e137-435f-4c47-a29e-596cb22f9624",
   "metadata": {},
   "outputs": [
    {
     "name": "stdin",
     "output_type": "stream",
     "text": [
      "Enter the numbber: 56\n",
      "Enter the number: 8\n"
     ]
    },
    {
     "name": "stdout",
     "output_type": "stream",
     "text": [
      "96717311574016\n"
     ]
    }
   ],
   "source": [
    "a=int(input(\"Enter the numbber:\"))\n",
    "b=int(input(\"Enter the number:\"))\n",
    "print(a**b)"
   ]
  },
  {
   "cell_type": "code",
   "execution_count": 1,
   "id": "e4568c93-0631-474e-b66f-d28c24bcee03",
   "metadata": {},
   "outputs": [
    {
     "name": "stdin",
     "output_type": "stream",
     "text": [
      "Enter the numbber: 5\n"
     ]
    },
    {
     "name": "stdout",
     "output_type": "stream",
     "text": [
      "10\n"
     ]
    }
   ],
   "source": [
    "a=int(input(\"Enter the numbber:\"))\n",
    "a+=5\n",
    "print(a)"
   ]
  },
  {
   "cell_type": "code",
   "execution_count": 8,
   "id": "49076e8f-e9d2-4974-ad53-844678359a18",
   "metadata": {},
   "outputs": [
    {
     "name": "stdin",
     "output_type": "stream",
     "text": [
      "Enter the numbber: 56\n"
     ]
    },
    {
     "name": "stdout",
     "output_type": "stream",
     "text": [
      "51\n"
     ]
    }
   ],
   "source": [
    "a=int(input(\"Enter the numbber:\"))\n",
    "a-=5\n",
    "print(a)"
   ]
  },
  {
   "cell_type": "code",
   "execution_count": 9,
   "id": "393f78e6-9bbd-42c8-b0ac-c98bd81e7a00",
   "metadata": {},
   "outputs": [
    {
     "name": "stdin",
     "output_type": "stream",
     "text": [
      "Enter the numbber: 10\n"
     ]
    },
    {
     "name": "stdout",
     "output_type": "stream",
     "text": [
      "50\n"
     ]
    }
   ],
   "source": [
    "a=int(input(\"Enter the numbber:\"))\n",
    "a*=5\n",
    "print(a)"
   ]
  },
  {
   "cell_type": "code",
   "execution_count": 10,
   "id": "f879e618-7d9f-4021-bc19-c2761fe7cf9b",
   "metadata": {},
   "outputs": [
    {
     "name": "stdin",
     "output_type": "stream",
     "text": [
      "Enter the numbber: 200\n"
     ]
    },
    {
     "name": "stdout",
     "output_type": "stream",
     "text": [
      "40.0\n"
     ]
    }
   ],
   "source": [
    "a=int(input(\"Enter the numbber:\"))\n",
    "a/=5\n",
    "print(a)"
   ]
  },
  {
   "cell_type": "code",
   "execution_count": 11,
   "id": "43070e66-5d08-419c-b347-ea5732bacf54",
   "metadata": {},
   "outputs": [
    {
     "name": "stdin",
     "output_type": "stream",
     "text": [
      "Enter the numbber: 200\n"
     ]
    },
    {
     "name": "stdout",
     "output_type": "stream",
     "text": [
      "40\n"
     ]
    }
   ],
   "source": [
    "a=int(input(\"Enter the numbber:\"))\n",
    "a//=5\n",
    "print(a)"
   ]
  },
  {
   "cell_type": "code",
   "execution_count": 12,
   "id": "94eb34ca-5174-4aad-9005-3d20671c46e7",
   "metadata": {},
   "outputs": [
    {
     "name": "stdin",
     "output_type": "stream",
     "text": [
      "Enter the numbber: 5\n"
     ]
    },
    {
     "name": "stdout",
     "output_type": "stream",
     "text": [
      "3125\n"
     ]
    }
   ],
   "source": [
    "a=int(input(\"Enter the numbber:\"))\n",
    "a**=5\n",
    "print(a)"
   ]
  },
  {
   "cell_type": "code",
   "execution_count": null,
   "id": "60a1d7f0-27c8-4d78-872d-6d83c182cfdb",
   "metadata": {},
   "outputs": [],
   "source": []
  }
 ],
 "metadata": {
  "kernelspec": {
   "display_name": "Python 3 (ipykernel)",
   "language": "python",
   "name": "python3"
  },
  "language_info": {
   "codemirror_mode": {
    "name": "ipython",
    "version": 3
   },
   "file_extension": ".py",
   "mimetype": "text/x-python",
   "name": "python",
   "nbconvert_exporter": "python",
   "pygments_lexer": "ipython3",
   "version": "3.12.7"
  }
 },
 "nbformat": 4,
 "nbformat_minor": 5
}
