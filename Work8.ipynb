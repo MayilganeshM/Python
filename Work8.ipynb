{
 "cells": [
  {
   "cell_type": "code",
   "execution_count": 4,
   "id": "177a9402-0f6f-4df4-88f4-b777903afb00",
   "metadata": {},
   "outputs": [
    {
     "name": "stdout",
     "output_type": "stream",
     "text": [
      "{'Student1': {'Name': 'Arun', 'Tamil': 98, 'English': 78, 'Math': 89, 'Science': 67, 'SocialScience': 78}, 'Student2': {'Name': 'Bala', 'Tamil': 67, 'English': 67, 'Math': 67, 'Science': 34, 'SocialScience': 83}, 'Student3': {'Name': 'Ganesh', 'Tamil': 90, 'English': 68, 'Math': 54, 'Science': 78, 'SocialScience': 65}, 'Student4': {'Name': 'Mari', 'Tamil': 38, 'English': 43, 'Math': 71, 'Science': 89, 'SocialScience': 67}, 'Student5': {'Name': 'Kumar', 'Tamil': 90, 'English': 87, 'Math': 89, 'Science': 48, 'SocialScience': 89}, 'Student6': {'Name': 'Kumar', 'Tamil': 90, 'English': 87, 'Math': 89, 'Science': 48, 'SocialScience': 89}}\n"
     ]
    }
   ],
   "source": [
    "a={\n",
    "    \"Student1\" :{\"Name\":\"Arun\",\"Tamil\":98,\"English\":78,\"Math\":89,\"Science\":67,\"SocialScience\":78},\n",
    "    \"Student2\" :{\"Name\":\"Bala\",\"Tamil\":67,\"English\":67,\"Math\":67,\"Science\":34,\"SocialScience\":83},\n",
    "    \"Student3\" :{\"Name\":\"Ganesh\",\"Tamil\":90,\"English\":68,\"Math\":54,\"Science\":78,\"SocialScience\":65},\n",
    "    \"Student4\" :{\"Name\":\"Mari\",\"Tamil\":38,\"English\":43,\"Math\":71,\"Science\":89,\"SocialScience\":67},\n",
    "    \"Student5\" :{\"Name\":\"Kumar\",\"Tamil\":90,\"English\":87,\"Math\":89,\"Science\":48,\"SocialScience\":89}\n",
    "}\n",
    "a ['Student6']=({\"Name\":\"Kumar\",\"Tamil\":90,\"English\":87,\"Math\":89,\"Science\":48,\"SocialScience\":89})\n",
    "print(a)"
   ]
  },
  {
   "cell_type": "code",
   "execution_count": 25,
   "id": "f88c79ae-2850-41a8-9a24-1995b053eca7",
   "metadata": {},
   "outputs": [
    {
     "name": "stdout",
     "output_type": "stream",
     "text": [
      "{'Student1': {'Name': 'Arun', 'Tamil': 98, 'English': 78, 'Math': 89, 'Science': 67, 'SocialScience': 78}, 'Student2': {'Name': 'Bala', 'Tamil': 67, 'English': 67, 'Math': 67, 'Science': 34, 'SocialScience': 83}, 'Student3': {'Name': 'Ganesh', 'Tamil': 90, 'English': 68, 'Math': 54, 'Science': 78, 'SocialScience': 65}, 'Student4': {'Name': 'Mari', 'Tamil': 38, 'English': 43, 'Math': 71, 'Science': 89, 'SocialScience': 67}, 'Student5': {'Name': 'Kumar', 'Math': 89, 'SocialScience': 89, 'English': 89}}\n"
     ]
    }
   ],
   "source": [
    "a[\"Student5\"]['English']=89\n",
    "print(a)"
   ]
  },
  {
   "cell_type": "code",
   "execution_count": 23,
   "id": "7c1049c8-eaa4-4b5b-b38c-1a6a3a80953f",
   "metadata": {},
   "outputs": [
    {
     "name": "stdout",
     "output_type": "stream",
     "text": [
      "{'Student1': {'Name': 'Arun', 'Tamil': 98, 'English': 78, 'Math': 89, 'Science': 67, 'SocialScience': 78}, 'Student2': {'Name': 'Bala', 'Tamil': 67, 'English': 67, 'Math': 67, 'Science': 34, 'SocialScience': 83}, 'Student3': {'Name': 'Ganesh', 'Tamil': 90, 'English': 68, 'Math': 54, 'Science': 78, 'SocialScience': 65}, 'Student4': {'Name': 'Mari', 'Tamil': 38, 'English': 43, 'Math': 71, 'Science': 89, 'SocialScience': 67}, 'Student5': {'Name': 'Kumar', 'Math': 89, 'SocialScience': 89}}\n"
     ]
    }
   ],
   "source": [
    "del a[\"Student5\"][\"Science\"]\n",
    "print(a)\n"
   ]
  },
  {
   "cell_type": "code",
   "execution_count": 26,
   "id": "bdf6932c-4b93-4d30-9bbe-60d977d0649d",
   "metadata": {},
   "outputs": [
    {
     "data": {
      "text/plain": [
       "{'Name': 'Kumar', 'Math': 89, 'SocialScience': 89, 'English': 89}"
      ]
     },
     "execution_count": 26,
     "metadata": {},
     "output_type": "execute_result"
    }
   ],
   "source": [
    "a[\"Student5\"]"
   ]
  },
  {
   "cell_type": "code",
   "execution_count": 8,
   "id": "55930fc2-834e-420e-af4f-034303013d42",
   "metadata": {},
   "outputs": [
    {
     "name": "stdout",
     "output_type": "stream",
     "text": [
      "dict_keys(['Name', 'Tamil', 'English', 'Math', 'Science', 'SocialScience'])\n"
     ]
    }
   ],
   "source": [
    "x=a[\"Student1\"].keys()\n",
    "print(x)"
   ]
  },
  {
   "cell_type": "code",
   "execution_count": null,
   "id": "414343fb-a150-4af9-9d21-1c4b1d3d07fd",
   "metadata": {},
   "outputs": [],
   "source": []
  }
 ],
 "metadata": {
  "kernelspec": {
   "display_name": "Python 3 (ipykernel)",
   "language": "python",
   "name": "python3"
  },
  "language_info": {
   "codemirror_mode": {
    "name": "ipython",
    "version": 3
   },
   "file_extension": ".py",
   "mimetype": "text/x-python",
   "name": "python",
   "nbconvert_exporter": "python",
   "pygments_lexer": "ipython3",
   "version": "3.12.7"
  }
 },
 "nbformat": 4,
 "nbformat_minor": 5
}
